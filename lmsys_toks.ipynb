{
 "cells": [
  {
   "cell_type": "code",
   "execution_count": 11,
   "metadata": {},
   "outputs": [],
   "source": [
    "import datasets\n",
    "from transformers import AutoTokenizer\n",
    "\n",
    "tokenizer = AutoTokenizer.from_pretrained(\"meta-llama/Llama-3.2-1B-Instruct\")\n",
    "dataset = datasets.load_dataset(\"lmsys/lmsys-chat-1m\", split=\"train\")"
   ]
  },
  {
   "cell_type": "code",
   "execution_count": 12,
   "metadata": {},
   "outputs": [],
   "source": [
    "def format_chat_prompt(conversation, tokenizer, model_name, remove_system_prompt=True):\n",
    "    formatted_chat_prompt = tokenizer.apply_chat_template(conversation, tokenize=False, add_generation_prompt=False)\n",
    "\n",
    "    if remove_system_prompt:\n",
    "        if \"llama-3\" in model_name.lower():\n",
    "            # find first instance of user prompt\n",
    "            user_prompt_idx = formatted_chat_prompt.find(\"<|start_header_id|>user<|end_header_id|>\")\n",
    "            formatted_chat_prompt = formatted_chat_prompt[user_prompt_idx:]\n",
    "\n",
    "    return formatted_chat_prompt"
   ]
  },
  {
   "cell_type": "code",
   "execution_count": 13,
   "metadata": {},
   "outputs": [
    {
     "name": "stdout",
     "output_type": "stream",
     "text": [
      "<|begin_of_text|><|start_header_id|>system<|end_header_id|>\n",
      "\n",
      "Cutting Knowledge Date: December 2023\n",
      "Today Date: 06 May 2025\n",
      "\n",
      "<|eot_id|><|start_header_id|>user<|end_header_id|>\n",
      "\n",
      "how can identity protection services help protect me against identity theft<|eot_id|><|start_header_id|>assistant<|end_header_id|>\n",
      "\n",
      "Identity protection services can help protect you against identity theft in several ways:\n",
      "\n",
      "1. Monitoring: Many identity protection services monitor your credit reports, public records, and other sources for signs of identity theft. If they detect any suspicious activity, they will alert you so you can take action.\n",
      "2. Credit freeze: Some identity protection services can help you freeze your credit, which makes it more difficult for thieves to open new accounts in your name.\n",
      "3. Identity theft insurance: Some identity protection services offer insurance that can help you recover financially if you become a victim of identity theft.\n",
      "4. Assistance: Many identity protection services offer assistance if you become a victim of identity theft. They can help you file a police report, contact credit bureaus, and other steps to help you restore your identity.\n",
      "\n",
      "Overall, identity protection services can provide you with peace of mind and help you take proactive steps to protect your identity. However, it's important to note that no service can completely guarantee that you will never become a victim of identity theft. It's still important to take steps to protect your own identity, such as being cautious with personal information and regularly monitoring your credit reports.<|eot_id|>\n"
     ]
    }
   ],
   "source": [
    "for row in dataset:\n",
    "    print(format_chat_prompt(row[\"conversation\"], tokenizer, \"Llama-3.2-1B-Instruct\"))\n",
    "    break"
   ]
  },
  {
   "cell_type": "code",
   "execution_count": 17,
   "metadata": {},
   "outputs": [
    {
     "name": "stderr",
     "output_type": "stream",
     "text": [
      "100%|██████████| 1000000/1000000 [17:08<00:00, 971.92it/s] \n"
     ]
    }
   ],
   "source": [
    "import tqdm\n",
    "\n",
    "total_num_toks = 0\n",
    "total_num_toks_trimmed = {}\n",
    "trim_tok_values = [128, 256, 512, 1024, 2048]\n",
    "\n",
    "for trim_tok in trim_tok_values:\n",
    "    total_num_toks_trimmed[trim_tok] = 0\n",
    "\n",
    "for row in tqdm.tqdm(dataset):\n",
    "    formatted_prompt = format_chat_prompt(row[\"conversation\"], tokenizer, \"Llama-3.2-1B-Instruct\")\n",
    "    toks = tokenizer(formatted_prompt, return_tensors=\"pt\")\n",
    "    total_num_toks += len(toks.input_ids[0])\n",
    "    for trim_tok in trim_tok_values:\n",
    "        total_num_toks_trimmed[trim_tok] += min(len(toks.input_ids[0]), trim_tok)\n"
   ]
  },
  {
   "cell_type": "code",
   "execution_count": 18,
   "metadata": {},
   "outputs": [
    {
     "name": "stdout",
     "output_type": "stream",
     "text": [
      "504863360\n",
      "Total num toks trimmed to 128: 113921662\n",
      "Total num toks trimmed to 256: 199597385\n",
      "Total num toks trimmed to 512: 308676379\n",
      "Total num toks trimmed to 1024: 395670423\n",
      "Total num toks trimmed to 2048: 447395374\n"
     ]
    }
   ],
   "source": [
    "print(total_num_toks)\n",
    "for trim_tok in trim_tok_values:\n",
    "    print(f\"Total num toks trimmed to {trim_tok}: {total_num_toks_trimmed[trim_tok]}\")\n"
   ]
  },
  {
   "cell_type": "code",
   "execution_count": null,
   "metadata": {},
   "outputs": [],
   "source": []
  }
 ],
 "metadata": {
  "kernelspec": {
   "display_name": ".venv",
   "language": "python",
   "name": "python3"
  },
  "language_info": {
   "codemirror_mode": {
    "name": "ipython",
    "version": 3
   },
   "file_extension": ".py",
   "mimetype": "text/x-python",
   "name": "python",
   "nbconvert_exporter": "python",
   "pygments_lexer": "ipython3",
   "version": "3.11.12"
  }
 },
 "nbformat": 4,
 "nbformat_minor": 2
}
